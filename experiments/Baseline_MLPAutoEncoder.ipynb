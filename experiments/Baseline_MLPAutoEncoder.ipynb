{
 "cells": [
  {
   "cell_type": "markdown",
   "id": "4489ae9a-85de-4d54-80b9-6faa42d93553",
   "metadata": {},
   "source": [
    "#### Note:\n",
    "    Idea is to train network to reduce data dimension to increase auto classification efficient via sklearn models like K-Means or OPTIC and etc.."
   ]
  },
  {
   "cell_type": "markdown",
   "id": "8c466510-2b54-41fc-a155-5f9602cdfe3e",
   "metadata": {},
   "source": [
    "# Import library"
   ]
  },
  {
   "cell_type": "code",
   "execution_count": 1,
   "id": "8cbf69a4-939e-49be-8e2d-e341dc960462",
   "metadata": {},
   "outputs": [],
   "source": [
    "import torch.nn as nn\n",
    "import torch\n",
    "\n",
    "from tqdm import tqdm\n",
    "from IPython.display import clear_output\n",
    "\n",
    "\n",
    "from torch.optim import Adam\n",
    "import numpy as np\n",
    "import pandas as pd\n",
    "import math\n",
    "from PIL import Image\n",
    "\n",
    "import matplotlib.pyplot as plt\n",
    "\n",
    "from torch.utils.data import Dataset, DataLoader\n",
    "from sklearn.model_selection import train_test_split"
   ]
  },
  {
   "cell_type": "markdown",
   "id": "52d98f14-c5d0-4941-adf6-59274aed3546",
   "metadata": {},
   "source": [
    "# Import data"
   ]
  },
  {
   "cell_type": "code",
   "execution_count": 2,
   "id": "002b0cea-72de-4ff4-80fa-a936e73b1928",
   "metadata": {},
   "outputs": [],
   "source": [
    "# df = pd.read_parquet(\"../data/experiment_eda.parquet\")\n",
    "\n",
    "train = pd.read_parquet(\"../data/train_data_features.parquet\")\n",
    "test = pd.read_parquet(\"../data/test_data_features.parquet\")"
   ]
  },
  {
   "cell_type": "code",
   "execution_count": 3,
   "id": "2e0ab3e2-8e08-4f0c-86ad-33bdaabedc57",
   "metadata": {},
   "outputs": [
    {
     "data": {
      "text/html": [
       "<div>\n",
       "<style scoped>\n",
       "    .dataframe tbody tr th:only-of-type {\n",
       "        vertical-align: middle;\n",
       "    }\n",
       "\n",
       "    .dataframe tbody tr th {\n",
       "        vertical-align: top;\n",
       "    }\n",
       "\n",
       "    .dataframe thead th {\n",
       "        text-align: right;\n",
       "    }\n",
       "</style>\n",
       "<table border=\"1\" class=\"dataframe\">\n",
       "  <thead>\n",
       "    <tr style=\"text-align: right;\">\n",
       "      <th></th>\n",
       "      <th>CLIENT_IP</th>\n",
       "      <th>EVENT_ID</th>\n",
       "      <th>HEADER_pattern</th>\n",
       "      <th>BOT_BOOL</th>\n",
       "      <th>CURL_HEAD_BOOL</th>\n",
       "      <th>WGET_HEAD_BOOL</th>\n",
       "      <th>SYMBOL_@</th>\n",
       "      <th>LENGTH_OF_USER_AGENT_HEAD_likely</th>\n",
       "      <th>windows_bool</th>\n",
       "      <th>linux_bool</th>\n",
       "      <th>...</th>\n",
       "      <th>REQUEST_URI\\';\\'REQUEST_ARGS</th>\n",
       "      <th>REQUEST_XML</th>\n",
       "      <th>RESPONSE_BODY</th>\n",
       "      <th>RESPONSE_HEADERS</th>\n",
       "      <th>2</th>\n",
       "      <th>3</th>\n",
       "      <th>4</th>\n",
       "      <th>5</th>\n",
       "      <th>Anomaly TOP</th>\n",
       "      <th>user_expected</th>\n",
       "    </tr>\n",
       "  </thead>\n",
       "  <tbody>\n",
       "    <tr>\n",
       "      <th>9497</th>\n",
       "      <td>186.177.157.252</td>\n",
       "      <td>AVdZr3EHq1Ppo9zF1E1J</td>\n",
       "      <td>True</td>\n",
       "      <td>False</td>\n",
       "      <td>False</td>\n",
       "      <td>False</td>\n",
       "      <td>False</td>\n",
       "      <td>True</td>\n",
       "      <td>True</td>\n",
       "      <td>False</td>\n",
       "      <td>...</td>\n",
       "      <td>False</td>\n",
       "      <td>False</td>\n",
       "      <td>False</td>\n",
       "      <td>False</td>\n",
       "      <td>False</td>\n",
       "      <td>True</td>\n",
       "      <td>False</td>\n",
       "      <td>False</td>\n",
       "      <td>False</td>\n",
       "      <td>True</td>\n",
       "    </tr>\n",
       "    <tr>\n",
       "      <th>37540</th>\n",
       "      <td>217.175.140.69</td>\n",
       "      <td>1Fu9HGQB5cBXmMW1wjDp</td>\n",
       "      <td>True</td>\n",
       "      <td>False</td>\n",
       "      <td>False</td>\n",
       "      <td>False</td>\n",
       "      <td>False</td>\n",
       "      <td>True</td>\n",
       "      <td>True</td>\n",
       "      <td>False</td>\n",
       "      <td>...</td>\n",
       "      <td>False</td>\n",
       "      <td>False</td>\n",
       "      <td>False</td>\n",
       "      <td>False</td>\n",
       "      <td>True</td>\n",
       "      <td>False</td>\n",
       "      <td>False</td>\n",
       "      <td>False</td>\n",
       "      <td>False</td>\n",
       "      <td>True</td>\n",
       "    </tr>\n",
       "    <tr>\n",
       "      <th>49419</th>\n",
       "      <td>90.151.84.224</td>\n",
       "      <td>XK8XJGQB5cBXmMW1Dof6</td>\n",
       "      <td>True</td>\n",
       "      <td>False</td>\n",
       "      <td>False</td>\n",
       "      <td>False</td>\n",
       "      <td>False</td>\n",
       "      <td>True</td>\n",
       "      <td>True</td>\n",
       "      <td>False</td>\n",
       "      <td>...</td>\n",
       "      <td>False</td>\n",
       "      <td>False</td>\n",
       "      <td>False</td>\n",
       "      <td>False</td>\n",
       "      <td>False</td>\n",
       "      <td>False</td>\n",
       "      <td>True</td>\n",
       "      <td>False</td>\n",
       "      <td>False</td>\n",
       "      <td>True</td>\n",
       "    </tr>\n",
       "    <tr>\n",
       "      <th>40601</th>\n",
       "      <td>85.234.117.8</td>\n",
       "      <td>x7s9JWQB5cBXmMW1Rmbn</td>\n",
       "      <td>True</td>\n",
       "      <td>False</td>\n",
       "      <td>False</td>\n",
       "      <td>False</td>\n",
       "      <td>False</td>\n",
       "      <td>True</td>\n",
       "      <td>True</td>\n",
       "      <td>False</td>\n",
       "      <td>...</td>\n",
       "      <td>False</td>\n",
       "      <td>False</td>\n",
       "      <td>False</td>\n",
       "      <td>False</td>\n",
       "      <td>False</td>\n",
       "      <td>False</td>\n",
       "      <td>True</td>\n",
       "      <td>False</td>\n",
       "      <td>False</td>\n",
       "      <td>True</td>\n",
       "    </tr>\n",
       "    <tr>\n",
       "      <th>9767</th>\n",
       "      <td>195.222.10.251</td>\n",
       "      <td>Ccoc_2MBjksgoq1eTn4W</td>\n",
       "      <td>True</td>\n",
       "      <td>False</td>\n",
       "      <td>False</td>\n",
       "      <td>False</td>\n",
       "      <td>False</td>\n",
       "      <td>True</td>\n",
       "      <td>False</td>\n",
       "      <td>True</td>\n",
       "      <td>...</td>\n",
       "      <td>False</td>\n",
       "      <td>False</td>\n",
       "      <td>False</td>\n",
       "      <td>False</td>\n",
       "      <td>True</td>\n",
       "      <td>False</td>\n",
       "      <td>False</td>\n",
       "      <td>False</td>\n",
       "      <td>False</td>\n",
       "      <td>True</td>\n",
       "    </tr>\n",
       "  </tbody>\n",
       "</table>\n",
       "<p>5 rows × 44 columns</p>\n",
       "</div>"
      ],
      "text/plain": [
       "             CLIENT_IP              EVENT_ID  HEADER_pattern  BOT_BOOL  \\\n",
       "9497   186.177.157.252  AVdZr3EHq1Ppo9zF1E1J            True     False   \n",
       "37540   217.175.140.69  1Fu9HGQB5cBXmMW1wjDp            True     False   \n",
       "49419    90.151.84.224  XK8XJGQB5cBXmMW1Dof6            True     False   \n",
       "40601     85.234.117.8  x7s9JWQB5cBXmMW1Rmbn            True     False   \n",
       "9767    195.222.10.251  Ccoc_2MBjksgoq1eTn4W            True     False   \n",
       "\n",
       "       CURL_HEAD_BOOL  WGET_HEAD_BOOL  SYMBOL_@  \\\n",
       "9497            False           False     False   \n",
       "37540           False           False     False   \n",
       "49419           False           False     False   \n",
       "40601           False           False     False   \n",
       "9767            False           False     False   \n",
       "\n",
       "       LENGTH_OF_USER_AGENT_HEAD_likely  windows_bool  linux_bool  ...  \\\n",
       "9497                               True          True       False  ...   \n",
       "37540                              True          True       False  ...   \n",
       "49419                              True          True       False  ...   \n",
       "40601                              True          True       False  ...   \n",
       "9767                               True         False        True  ...   \n",
       "\n",
       "       REQUEST_URI\\';\\'REQUEST_ARGS  REQUEST_XML  RESPONSE_BODY  \\\n",
       "9497                          False        False          False   \n",
       "37540                         False        False          False   \n",
       "49419                         False        False          False   \n",
       "40601                         False        False          False   \n",
       "9767                          False        False          False   \n",
       "\n",
       "       RESPONSE_HEADERS      2      3      4      5  Anomaly TOP  \\\n",
       "9497              False  False   True  False  False        False   \n",
       "37540             False   True  False  False  False        False   \n",
       "49419             False  False  False   True  False        False   \n",
       "40601             False  False  False   True  False        False   \n",
       "9767              False   True  False  False  False        False   \n",
       "\n",
       "       user_expected  \n",
       "9497            True  \n",
       "37540           True  \n",
       "49419           True  \n",
       "40601           True  \n",
       "9767            True  \n",
       "\n",
       "[5 rows x 44 columns]"
      ]
     },
     "execution_count": 3,
     "metadata": {},
     "output_type": "execute_result"
    }
   ],
   "source": [
    "train.head()"
   ]
  },
  {
   "cell_type": "code",
   "execution_count": 4,
   "id": "f5830c9d-bc29-4ac0-9b07-e669adbe968a",
   "metadata": {},
   "outputs": [
    {
     "data": {
      "text/html": [
       "<div>\n",
       "<style scoped>\n",
       "    .dataframe tbody tr th:only-of-type {\n",
       "        vertical-align: middle;\n",
       "    }\n",
       "\n",
       "    .dataframe tbody tr th {\n",
       "        vertical-align: top;\n",
       "    }\n",
       "\n",
       "    .dataframe thead th {\n",
       "        text-align: right;\n",
       "    }\n",
       "</style>\n",
       "<table border=\"1\" class=\"dataframe\">\n",
       "  <thead>\n",
       "    <tr style=\"text-align: right;\">\n",
       "      <th></th>\n",
       "      <th>CLIENT_IP</th>\n",
       "      <th>EVENT_ID</th>\n",
       "      <th>HEADER_pattern</th>\n",
       "      <th>BOT_BOOL</th>\n",
       "      <th>CURL_HEAD_BOOL</th>\n",
       "      <th>WGET_HEAD_BOOL</th>\n",
       "      <th>SYMBOL_@</th>\n",
       "      <th>LENGTH_OF_USER_AGENT_HEAD_likely</th>\n",
       "      <th>windows_bool</th>\n",
       "      <th>linux_bool</th>\n",
       "      <th>...</th>\n",
       "      <th>REQUEST_URI\\';\\'REQUEST_ARGS</th>\n",
       "      <th>REQUEST_XML</th>\n",
       "      <th>RESPONSE_BODY</th>\n",
       "      <th>RESPONSE_HEADERS</th>\n",
       "      <th>2</th>\n",
       "      <th>3</th>\n",
       "      <th>4</th>\n",
       "      <th>5</th>\n",
       "      <th>Anomaly TOP</th>\n",
       "      <th>user_expected</th>\n",
       "    </tr>\n",
       "  </thead>\n",
       "  <tbody>\n",
       "    <tr>\n",
       "      <th>23799</th>\n",
       "      <td>217.175.140.69</td>\n",
       "      <td>a14dHWQB5cBXmMW1Dl2w</td>\n",
       "      <td>True</td>\n",
       "      <td>False</td>\n",
       "      <td>False</td>\n",
       "      <td>False</td>\n",
       "      <td>False</td>\n",
       "      <td>True</td>\n",
       "      <td>True</td>\n",
       "      <td>False</td>\n",
       "      <td>...</td>\n",
       "      <td>False</td>\n",
       "      <td>False</td>\n",
       "      <td>False</td>\n",
       "      <td>False</td>\n",
       "      <td>False</td>\n",
       "      <td>False</td>\n",
       "      <td>False</td>\n",
       "      <td>True</td>\n",
       "      <td>False</td>\n",
       "      <td>True</td>\n",
       "    </tr>\n",
       "    <tr>\n",
       "      <th>51955</th>\n",
       "      <td>91.103.66.203</td>\n",
       "      <td>NZo5ImQB5cBXmMW14djt</td>\n",
       "      <td>True</td>\n",
       "      <td>False</td>\n",
       "      <td>False</td>\n",
       "      <td>False</td>\n",
       "      <td>False</td>\n",
       "      <td>True</td>\n",
       "      <td>True</td>\n",
       "      <td>False</td>\n",
       "      <td>...</td>\n",
       "      <td>False</td>\n",
       "      <td>False</td>\n",
       "      <td>False</td>\n",
       "      <td>False</td>\n",
       "      <td>False</td>\n",
       "      <td>False</td>\n",
       "      <td>True</td>\n",
       "      <td>False</td>\n",
       "      <td>False</td>\n",
       "      <td>True</td>\n",
       "    </tr>\n",
       "    <tr>\n",
       "      <th>9625</th>\n",
       "      <td>185.70.104.11</td>\n",
       "      <td>AVdqkkhHq1Ppo9zF-FYT</td>\n",
       "      <td>True</td>\n",
       "      <td>False</td>\n",
       "      <td>False</td>\n",
       "      <td>False</td>\n",
       "      <td>False</td>\n",
       "      <td>True</td>\n",
       "      <td>False</td>\n",
       "      <td>False</td>\n",
       "      <td>...</td>\n",
       "      <td>False</td>\n",
       "      <td>False</td>\n",
       "      <td>False</td>\n",
       "      <td>False</td>\n",
       "      <td>True</td>\n",
       "      <td>False</td>\n",
       "      <td>False</td>\n",
       "      <td>False</td>\n",
       "      <td>False</td>\n",
       "      <td>True</td>\n",
       "    </tr>\n",
       "    <tr>\n",
       "      <th>22484</th>\n",
       "      <td>95.188.66.154</td>\n",
       "      <td>wMC-E2QBoRd31uenQbLg</td>\n",
       "      <td>True</td>\n",
       "      <td>False</td>\n",
       "      <td>False</td>\n",
       "      <td>False</td>\n",
       "      <td>False</td>\n",
       "      <td>True</td>\n",
       "      <td>True</td>\n",
       "      <td>False</td>\n",
       "      <td>...</td>\n",
       "      <td>False</td>\n",
       "      <td>False</td>\n",
       "      <td>False</td>\n",
       "      <td>False</td>\n",
       "      <td>True</td>\n",
       "      <td>False</td>\n",
       "      <td>False</td>\n",
       "      <td>False</td>\n",
       "      <td>False</td>\n",
       "      <td>True</td>\n",
       "    </tr>\n",
       "    <tr>\n",
       "      <th>191</th>\n",
       "      <td>5.19.178.227</td>\n",
       "      <td>joV2IGQB5cBXmMW1JJXD</td>\n",
       "      <td>True</td>\n",
       "      <td>False</td>\n",
       "      <td>False</td>\n",
       "      <td>False</td>\n",
       "      <td>False</td>\n",
       "      <td>True</td>\n",
       "      <td>True</td>\n",
       "      <td>False</td>\n",
       "      <td>...</td>\n",
       "      <td>False</td>\n",
       "      <td>False</td>\n",
       "      <td>False</td>\n",
       "      <td>False</td>\n",
       "      <td>False</td>\n",
       "      <td>False</td>\n",
       "      <td>True</td>\n",
       "      <td>False</td>\n",
       "      <td>False</td>\n",
       "      <td>True</td>\n",
       "    </tr>\n",
       "  </tbody>\n",
       "</table>\n",
       "<p>5 rows × 44 columns</p>\n",
       "</div>"
      ],
      "text/plain": [
       "            CLIENT_IP              EVENT_ID  HEADER_pattern  BOT_BOOL  \\\n",
       "23799  217.175.140.69  a14dHWQB5cBXmMW1Dl2w            True     False   \n",
       "51955   91.103.66.203  NZo5ImQB5cBXmMW14djt            True     False   \n",
       "9625    185.70.104.11  AVdqkkhHq1Ppo9zF-FYT            True     False   \n",
       "22484   95.188.66.154  wMC-E2QBoRd31uenQbLg            True     False   \n",
       "191      5.19.178.227  joV2IGQB5cBXmMW1JJXD            True     False   \n",
       "\n",
       "       CURL_HEAD_BOOL  WGET_HEAD_BOOL  SYMBOL_@  \\\n",
       "23799           False           False     False   \n",
       "51955           False           False     False   \n",
       "9625            False           False     False   \n",
       "22484           False           False     False   \n",
       "191             False           False     False   \n",
       "\n",
       "       LENGTH_OF_USER_AGENT_HEAD_likely  windows_bool  linux_bool  ...  \\\n",
       "23799                              True          True       False  ...   \n",
       "51955                              True          True       False  ...   \n",
       "9625                               True         False       False  ...   \n",
       "22484                              True          True       False  ...   \n",
       "191                                True          True       False  ...   \n",
       "\n",
       "       REQUEST_URI\\';\\'REQUEST_ARGS  REQUEST_XML  RESPONSE_BODY  \\\n",
       "23799                         False        False          False   \n",
       "51955                         False        False          False   \n",
       "9625                          False        False          False   \n",
       "22484                         False        False          False   \n",
       "191                           False        False          False   \n",
       "\n",
       "       RESPONSE_HEADERS      2      3      4      5  Anomaly TOP  \\\n",
       "23799             False  False  False  False   True        False   \n",
       "51955             False  False  False   True  False        False   \n",
       "9625              False   True  False  False  False        False   \n",
       "22484             False   True  False  False  False        False   \n",
       "191               False  False  False   True  False        False   \n",
       "\n",
       "       user_expected  \n",
       "23799           True  \n",
       "51955           True  \n",
       "9625            True  \n",
       "22484           True  \n",
       "191             True  \n",
       "\n",
       "[5 rows x 44 columns]"
      ]
     },
     "execution_count": 4,
     "metadata": {},
     "output_type": "execute_result"
    }
   ],
   "source": [
    "test.head()"
   ]
  },
  {
   "cell_type": "markdown",
   "id": "baae98da-2b76-484b-903b-49119b5d2c66",
   "metadata": {},
   "source": [
    "# Prepaire data in CustomDataset for torch"
   ]
  },
  {
   "cell_type": "code",
   "execution_count": 5,
   "id": "3c6e4e9c-ae5e-4dad-93ad-f485b700452b",
   "metadata": {},
   "outputs": [],
   "source": [
    "class CustomDataset(Dataset):\n",
    "    def __init__(self, dataframe):\n",
    "        self.dataframe = dataframe\n",
    "\n",
    "    def __getitem__(self, index):\n",
    "        row = self.dataframe.iloc[index].to_numpy()\n",
    "        features = row[2:]\n",
    "        return  torch.Tensor(features.astype(float)).unsqueeze(0)\n",
    "\n",
    "    def __len__(self):\n",
    "        return len(self.dataframe)"
   ]
  },
  {
   "cell_type": "code",
   "execution_count": 6,
   "id": "43265692-65af-4779-8dbb-1828aa3d5972",
   "metadata": {},
   "outputs": [],
   "source": [
    "# train, test = train_test_split(df, test_size=0.15, train_size=0.75, shuffle=True)"
   ]
  },
  {
   "cell_type": "code",
   "execution_count": 7,
   "id": "8100e9a3-8092-4945-ac70-e2cd0302c323",
   "metadata": {},
   "outputs": [],
   "source": [
    "train_dataset, test_dataset = CustomDataset(train), CustomDataset(test)"
   ]
  },
  {
   "cell_type": "code",
   "execution_count": 8,
   "id": "d13cfa8b-8de3-4e48-9363-a537d5df2344",
   "metadata": {},
   "outputs": [],
   "source": [
    "train_loader = DataLoader(train_dataset, batch_size=32, shuffle=True, num_workers=4, pin_memory=True)\n",
    "test_loader = DataLoader(test_dataset, batch_size=32, shuffle=False, num_workers=4, pin_memory=True)"
   ]
  },
  {
   "cell_type": "markdown",
   "id": "8c085766-55e9-4f85-9df6-7bb17f642957",
   "metadata": {
    "jp-MarkdownHeadingCollapsed": true
   },
   "source": [
    "# Define Baseline AutoEncoder"
   ]
  },
  {
   "cell_type": "code",
   "execution_count": 9,
   "id": "070cb3b8-e268-476a-a6a5-71f089136fa0",
   "metadata": {},
   "outputs": [],
   "source": [
    "class MLPEncoder(nn.Module):\n",
    "    def __init__(self, in_channels: int = 1, base_size: int = 42, target_size: int = 10):\n",
    "        super().__init__()\n",
    "\n",
    "        self.encoder = nn.Sequential(\n",
    "                nn.Linear(base_size, base_size-10),\n",
    "                nn.BatchNorm1d(in_channels),\n",
    "                nn.Sigmoid(),\n",
    "                nn.Dropout(0.1),\n",
    "            \n",
    "                nn.Linear(base_size-10, base_size-20),\n",
    "                nn.BatchNorm1d(in_channels),\n",
    "                nn.Sigmoid(),\n",
    "                nn.Dropout(0.1),\n",
    "            \n",
    "                nn.Linear(base_size-20, target_size),\n",
    "                nn.BatchNorm1d(in_channels),\n",
    "                nn.Sigmoid(),\n",
    "                nn.Dropout(0.1),)\n",
    "        \n",
    "        self.decoder = nn.Sequential(\n",
    "                nn.Linear(target_size, base_size-20),\n",
    "                nn.BatchNorm1d(in_channels),\n",
    "                nn.Sigmoid(),\n",
    "                nn.Dropout(0.1),\n",
    "            \n",
    "                nn.Linear(base_size-20, base_size-10),\n",
    "                nn.BatchNorm1d(in_channels),\n",
    "                nn.Sigmoid(),\n",
    "                nn.Dropout(0.1),\n",
    "            \n",
    "                nn.Linear(base_size-10, base_size),\n",
    "                nn.Sigmoid()) \n",
    "\n",
    "    def forward(self, x):\n",
    "        x = self.encoder(x)\n",
    "        x = self.decoder(x)\n",
    "        return x\n",
    "\n",
    "    @torch.inference_mode()\n",
    "    def encode(self, x):\n",
    "        return self.encoder(x)\n",
    "\n",
    "    @torch.inference_mode()\n",
    "    def decode(self, x):\n",
    "        return self.decoder(x)"
   ]
  },
  {
   "cell_type": "markdown",
   "id": "51da9b1c-8499-4a07-9879-04ec77b41cc5",
   "metadata": {},
   "source": [
    "# Defain train functions"
   ]
  },
  {
   "cell_type": "code",
   "execution_count": 10,
   "id": "5b95f8e5-c265-401b-8b09-46bcb69e6225",
   "metadata": {},
   "outputs": [],
   "source": [
    "def train(model):\n",
    "    model.train()\n",
    "\n",
    "    train_loss = 0\n",
    "    batch_size = 32\n",
    "    for x in tqdm(train_loader, desc='Train'):\n",
    "        \n",
    "        x = x.to(device)\n",
    "\n",
    "        optimizer.zero_grad()\n",
    "\n",
    "        output = model(x)\n",
    "\n",
    "        loss = loss_fn(output, x)\n",
    "\n",
    "        train_loss += loss.detach().item()\n",
    "\n",
    "        loss.backward()\n",
    "        optimizer.step()\n",
    "        \n",
    "        del loss\n",
    "        del output\n",
    "\n",
    "    train_loss /= len(train_loader)\n",
    "\n",
    "    return train_loss"
   ]
  },
  {
   "cell_type": "code",
   "execution_count": 11,
   "id": "e230a6a5-0280-4ac3-b152-eed6a65cb4e9",
   "metadata": {},
   "outputs": [],
   "source": [
    "@torch.inference_mode()\n",
    "def evaluate(model, loader):\n",
    "    model.eval()\n",
    "\n",
    "    total_loss = 0\n",
    "\n",
    "    for x in tqdm(loader, desc='Evaluation'):\n",
    "        x = x.to(device)\n",
    "\n",
    "        output = model(x)\n",
    "\n",
    "        loss = loss_fn(output, x)\n",
    "\n",
    "        total_loss += loss.detach().item()\n",
    "\n",
    "        del loss\n",
    "        del output\n",
    "\n",
    "    total_loss /= len(loader)\n",
    "\n",
    "    return total_loss"
   ]
  },
  {
   "cell_type": "code",
   "execution_count": 12,
   "id": "e1a8dd64-c6dd-4273-93e3-7018ff475566",
   "metadata": {},
   "outputs": [],
   "source": [
    "def plot_stats(\n",
    "    train_loss: list[float],\n",
    "    valid_loss: list[float],\n",
    "    title: str\n",
    "):\n",
    "    plt.figure(figsize=(16, 8))\n",
    "\n",
    "    plt.title(title + ' loss')\n",
    "\n",
    "    plt.plot(train_loss, label='Train loss')\n",
    "    plt.plot(valid_loss, label='Test loss')\n",
    "    plt.legend()\n",
    "    plt.grid()\n",
    "\n",
    "    plt.show()"
   ]
  },
  {
   "cell_type": "code",
   "execution_count": 13,
   "id": "0c7031e5-9145-4115-8ca7-24608a0733a3",
   "metadata": {},
   "outputs": [],
   "source": [
    "def whole_train_valid_cycle(model, num_epochs, title):\n",
    "    train_loss_history, valid_loss_history = [], []\n",
    "\n",
    "    for epoch in range(num_epochs):\n",
    "        train_loss = train(model)\n",
    "        valid_loss = evaluate(model, test_loader)\n",
    "\n",
    "        train_loss_history.append(train_loss)\n",
    "        valid_loss_history.append(valid_loss)\n",
    "\n",
    "        clear_output(wait=True)\n",
    "\n",
    "        plot_stats(\n",
    "            train_loss_history, valid_loss_history,\n",
    "            title\n",
    "        )"
   ]
  },
  {
   "cell_type": "markdown",
   "id": "039384c3-fc3a-4360-bcdc-397fe1e2e337",
   "metadata": {
    "jp-MarkdownHeadingCollapsed": true
   },
   "source": [
    "# SetUp model"
   ]
  },
  {
   "cell_type": "code",
   "execution_count": 14,
   "id": "9fd9a6d7-65bf-40ef-808b-3cf8b08b6d84",
   "metadata": {},
   "outputs": [
    {
     "name": "stdout",
     "output_type": "stream",
     "text": [
      "cpu\n"
     ]
    }
   ],
   "source": [
    "device = torch.device('cuda:0' if torch.cuda.is_available() else 'cpu')\n",
    "print(device)\n",
    "\n",
    "loss_fn = nn.MSELoss()"
   ]
  },
  {
   "cell_type": "code",
   "execution_count": 27,
   "id": "9b494f3b-0f7c-4ea0-9c54-95267d93052e",
   "metadata": {},
   "outputs": [],
   "source": [
    "model = MLPEncoder().to(device)\n",
    "optimizer = Adam(model.parameters(), lr=1e-2)"
   ]
  },
  {
   "cell_type": "markdown",
   "id": "52daec7f-4e11-40fd-84c7-12e066bd085a",
   "metadata": {},
   "source": [
    "# Train model"
   ]
  },
  {
   "cell_type": "code",
   "execution_count": 28,
   "id": "10bffab3-149b-4e14-89f5-79190f2a9030",
   "metadata": {},
   "outputs": [
    {
     "data": {
      "image/png": "[encoded data removed]",
      "text/plain": [
       "<Figure size 1600x800 with 1 Axes>"
      ]
     },
     "metadata": {},
     "output_type": "display_data"
    }
   ],
   "source": [
    "whole_train_valid_cycle(model, 100, 'MLPAutoEncoder for HTTP request features')"
   ]
  },
  {
   "cell_type": "markdown",
   "id": "0bb9ddf9-ee22-4d15-ba4f-e83a4d9d8c70",
   "metadata": {},
   "source": [
    "# Check model results for a single object of HTTP features from test data"
   ]
  },
  {
   "cell_type": "code",
   "execution_count": 29,
   "id": "4c65b0f4-cc1e-4252-a6b9-1009c4ecd488",
   "metadata": {},
   "outputs": [],
   "source": [
    "_, x = next(enumerate(test_loader))"
   ]
  },
  {
   "cell_type": "code",
   "execution_count": 30,
   "id": "0701bd71-87fe-4c4c-a594-7a0c2a0b3a18",
   "metadata": {},
   "outputs": [],
   "source": [
    "@torch.inference_mode()\n",
    "def check_an_example(x, model):\n",
    "    sample_of_data = x.view(1,1,42)\n",
    "    pred = model(sample_of_data)\n",
    "    return pred"
   ]
  },
  {
   "cell_type": "code",
   "execution_count": 51,
   "id": "2fe4e3f0-f56e-4acd-91cc-3c24988261a6",
   "metadata": {},
   "outputs": [
    {
     "data": {
      "text/plain": [
       "tensor([[[4.1508e-01, 9.1718e-01, 7.8343e-02, 2.1216e-10, 7.0938e-01,\n",
       "          8.1804e-09, 7.7080e-01, 8.2447e-05, 9.4938e-01, 5.7402e-04]]])"
      ]
     },
     "execution_count": 51,
     "metadata": {},
     "output_type": "execute_result"
    }
   ],
   "source": [
    "#encode an object from size 42 to 12\n",
    "model.encode(x[9].view(1,1,42))"
   ]
  },
  {
   "cell_type": "code",
   "execution_count": 53,
   "id": "fcf4176b-6c42-468d-be80-965d7b10a51d",
   "metadata": {},
   "outputs": [
    {
     "data": {
      "text/plain": [
       "tensor([[1.0000, 0.0000, 0.0000, 0.0000, 0.0000, 1.0000, 0.0000, 1.0000, 0.0400,\n",
       "         0.0400, 0.0000, 0.4500, 0.3000, 0.0000, 1.0000, 0.0600, 0.0000, 0.0000,\n",
       "         0.0000, 0.0000, 0.0000, 1.0000, 0.0000, 0.0000, 0.0000, 0.0000, 0.0000,\n",
       "         0.0000, 0.0000, 0.0000, 0.0000, 0.0000, 0.0000, 0.0000, 0.0000, 0.0000,\n",
       "         0.0000, 0.0000, 1.0000, 0.0000, 0.0000, 1.0000]])"
      ]
     },
     "execution_count": 53,
     "metadata": {},
     "output_type": "execute_result"
    }
   ],
   "source": [
    "#encode -> decode vector\n",
    "check_an_example(x[9], model).view(1,42).round(decimals=2)"
   ]
  },
  {
   "cell_type": "code",
   "execution_count": 54,
   "id": "b34dcefe-f315-4248-bf7e-dc3e28500f98",
   "metadata": {},
   "outputs": [
    {
     "data": {
      "text/plain": [
       "tensor([[1.0000, 0.0000, 0.0000, 0.0000, 0.0000, 1.0000, 0.0000, 1.0000, 0.0000,\n",
       "         0.0000, 0.0000, 0.4300, 0.3300, 0.0000, 1.0000, 0.0600, 0.0000, 0.0000,\n",
       "         0.0000, 0.0000, 0.0000, 1.0000, 0.0000, 0.0000, 0.0000, 0.0000, 0.0000,\n",
       "         0.0000, 0.0000, 0.0000, 0.0000, 0.0000, 0.0000, 0.0000, 0.0000, 0.0000,\n",
       "         0.0000, 0.0000, 1.0000, 0.0000, 0.0000, 1.0000]])"
      ]
     },
     "execution_count": 54,
     "metadata": {},
     "output_type": "execute_result"
    }
   ],
   "source": [
    "#original vector\n",
    "x[9]"
   ]
  },
  {
   "cell_type": "markdown",
   "id": "d35b81d0-2d4d-42c5-823a-fc482eca0ced",
   "metadata": {},
   "source": [
    "# Save results"
   ]
  },
  {
   "cell_type": "code",
   "execution_count": 55,
   "id": "a7b6ad98-0f32-4c95-a42f-5b53362a4577",
   "metadata": {},
   "outputs": [],
   "source": [
    "model_scripted = torch.jit.script(model) # Export to TorchScript\n",
    "model_scripted.save('../models/baseline_mlp_autoencdoer.pt') # Save"
   ]
  },
  {
   "cell_type": "code",
   "execution_count": null,
   "id": "38778dc8-8bca-4bb3-b32c-f354fe59dcee",
   "metadata": {},
   "outputs": [],
   "source": []
  }
 ],
 "metadata": {
  "kernelspec": {
   "display_name": "Python 3 (ipykernel)",
   "language": "python",
   "name": "python3"
  },
  "language_info": {
   "codemirror_mode": {
    "name": "ipython",
    "version": 3
   },
   "file_extension": ".py",
   "mimetype": "text/x-python",
   "name": "python",
   "nbconvert_exporter": "python",
   "pygments_lexer": "ipython3",
   "version": "3.10.12"
  }
 },
 "nbformat": 4,
 "nbformat_minor": 5
}
