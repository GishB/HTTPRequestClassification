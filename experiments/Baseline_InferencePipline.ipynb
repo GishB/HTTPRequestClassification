{
 "cells": [
  {
   "cell_type": "markdown",
   "id": "6668558e-0994-4c76-a9a1-70c833286b69",
   "metadata": {},
   "source": [
    "#### Note:\n",
    "    Main idea is to show how we can process raw data and predict class for an event "
   ]
  },
  {
   "cell_type": "markdown",
   "id": "d465ee04-423b-43b6-896c-5f582150cbb0",
   "metadata": {},
   "source": [
    "# Import libraries"
   ]
  },
  {
   "cell_type": "code",
   "execution_count": 1,
   "id": "3c73fd66-b3fb-4d28-a245-e39786c9fab8",
   "metadata": {},
   "outputs": [],
   "source": [
    "from catboost import CatBoostClassifier, Pool\n",
    "import torch\n",
    "import numpy as np\n",
    "import pandas as pd\n",
    "import matplotlib.pyplot as plt\n",
    "\n",
    "import sys\n",
    "sys.path.append(\"..\")\n",
    "\n",
    "from utils.DataTransformers import DataTransformer"
   ]
  },
  {
   "cell_type": "markdown",
   "id": "cb398d42-e66a-4284-9826-c8b056b0f23e",
   "metadata": {},
   "source": [
    "# Import data"
   ]
  },
  {
   "cell_type": "code",
   "execution_count": 2,
   "id": "892d1e96-f169-499c-ac0b-9d653bce291d",
   "metadata": {},
   "outputs": [],
   "source": [
    "df = pd.read_csv(\"../data/part_10.csv\")\n",
    "df_event_classes = pd.read_parquet(\"../data/event_classes_by_optics_50\")\n",
    "df = pd.merge(df, df_event_classes, on=['EVENT_ID'])\n",
    "df = df.drop(axis=1, columns=\"class\")"
   ]
  },
  {
   "cell_type": "markdown",
   "id": "831864b7-c807-4c13-b95d-ad31d4306093",
   "metadata": {},
   "source": [
    "# Import Models"
   ]
  },
  {
   "cell_type": "markdown",
   "id": "1867a8f6-8310-4fb1-88dc-bcc1292826ec",
   "metadata": {},
   "source": [
    "#### load CatBoost Classifier"
   ]
  },
  {
   "cell_type": "code",
   "execution_count": 3,
   "id": "9a52691a-e1f4-4201-b217-bf499d9f04b3",
   "metadata": {},
   "outputs": [
    {
     "data": {
      "text/plain": [
       "<catboost.core.CatBoostClassifier at 0x7f28c001a620>"
      ]
     },
     "execution_count": 3,
     "metadata": {},
     "output_type": "execute_result"
    }
   ],
   "source": [
    "clf = CatBoostClassifier()\n",
    "clf.load_model(\"../models/catboost_accuracy_093_over50class.pkl\")"
   ]
  },
  {
   "cell_type": "code",
   "execution_count": 4,
   "id": "1583ce18-80c0-41e9-99ee-7cc44ee9839c",
   "metadata": {},
   "outputs": [],
   "source": [
    "mlp_autoencoder = torch.jit.load('../models/baseline_mlp_autoencdoer.pt')"
   ]
  },
  {
   "cell_type": "code",
   "execution_count": 5,
   "id": "1de4f82a-9dfd-4f32-a3d7-2f1b246ab0b3",
   "metadata": {},
   "outputs": [
    {
     "data": {
      "text/plain": [
       "RecursiveScriptModule(\n",
       "  original_name=MLPEncoder\n",
       "  (encoder): RecursiveScriptModule(\n",
       "    original_name=Sequential\n",
       "    (0): RecursiveScriptModule(original_name=Linear)\n",
       "    (1): RecursiveScriptModule(original_name=BatchNorm1d)\n",
       "    (2): RecursiveScriptModule(original_name=Sigmoid)\n",
       "    (3): RecursiveScriptModule(original_name=Dropout)\n",
       "    (4): RecursiveScriptModule(original_name=Linear)\n",
       "    (5): RecursiveScriptModule(original_name=BatchNorm1d)\n",
       "    (6): RecursiveScriptModule(original_name=Sigmoid)\n",
       "    (7): RecursiveScriptModule(original_name=Dropout)\n",
       "    (8): RecursiveScriptModule(original_name=Linear)\n",
       "    (9): RecursiveScriptModule(original_name=BatchNorm1d)\n",
       "    (10): RecursiveScriptModule(original_name=Sigmoid)\n",
       "    (11): RecursiveScriptModule(original_name=Dropout)\n",
       "  )\n",
       "  (decoder): RecursiveScriptModule(\n",
       "    original_name=Sequential\n",
       "    (0): RecursiveScriptModule(original_name=Linear)\n",
       "    (1): RecursiveScriptModule(original_name=BatchNorm1d)\n",
       "    (2): RecursiveScriptModule(original_name=Sigmoid)\n",
       "    (3): RecursiveScriptModule(original_name=Dropout)\n",
       "    (4): RecursiveScriptModule(original_name=Linear)\n",
       "    (5): RecursiveScriptModule(original_name=BatchNorm1d)\n",
       "    (6): RecursiveScriptModule(original_name=Sigmoid)\n",
       "    (7): RecursiveScriptModule(original_name=Dropout)\n",
       "    (8): RecursiveScriptModule(original_name=Linear)\n",
       "    (9): RecursiveScriptModule(original_name=Sigmoid)\n",
       "  )\n",
       ")"
      ]
     },
     "execution_count": 5,
     "metadata": {},
     "output_type": "execute_result"
    }
   ],
   "source": [
    "mlp_autoencoder"
   ]
  },
  {
   "cell_type": "markdown",
   "id": "342a5f66-b470-42ea-9ac4-e6cd4c35fabd",
   "metadata": {},
   "source": [
    "# Inference Pipline"
   ]
  },
  {
   "cell_type": "code",
   "execution_count": 6,
   "id": "b74b4ffa-0dcd-41b6-9275-1e2b07aaf0d7",
   "metadata": {},
   "outputs": [
    {
     "data": {
      "text/html": [
       "<div>\n",
       "<style scoped>\n",
       "    .dataframe tbody tr th:only-of-type {\n",
       "        vertical-align: middle;\n",
       "    }\n",
       "\n",
       "    .dataframe tbody tr th {\n",
       "        vertical-align: top;\n",
       "    }\n",
       "\n",
       "    .dataframe thead th {\n",
       "        text-align: right;\n",
       "    }\n",
       "</style>\n",
       "<table border=\"1\" class=\"dataframe\">\n",
       "  <thead>\n",
       "    <tr style=\"text-align: right;\">\n",
       "      <th></th>\n",
       "      <th>CLIENT_IP</th>\n",
       "      <th>CLIENT_USERAGENT</th>\n",
       "      <th>REQUEST_SIZE</th>\n",
       "      <th>RESPONSE_CODE</th>\n",
       "      <th>MATCHED_VARIABLE_SRC</th>\n",
       "      <th>MATCHED_VARIABLE_NAME</th>\n",
       "      <th>MATCHED_VARIABLE_VALUE</th>\n",
       "      <th>EVENT_ID</th>\n",
       "    </tr>\n",
       "  </thead>\n",
       "  <tbody>\n",
       "    <tr>\n",
       "      <th>45127</th>\n",
       "      <td>178.65.103.69</td>\n",
       "      <td>Mozilla/5.0 (iPad; CPU OS 11_2 like Mac OS X) ...</td>\n",
       "      <td>878</td>\n",
       "      <td>404</td>\n",
       "      <td>REQUEST_GET_ARGS</td>\n",
       "      <td>REQUEST_GET_ARGS._</td>\n",
       "      <td>932660840</td>\n",
       "      <td>EWtbHmQB5cBXmMW1rGmH</td>\n",
       "    </tr>\n",
       "  </tbody>\n",
       "</table>\n",
       "</div>"
      ],
      "text/plain": [
       "           CLIENT_IP                                   CLIENT_USERAGENT  \\\n",
       "45127  178.65.103.69  Mozilla/5.0 (iPad; CPU OS 11_2 like Mac OS X) ...   \n",
       "\n",
       "      REQUEST_SIZE RESPONSE_CODE MATCHED_VARIABLE_SRC MATCHED_VARIABLE_NAME  \\\n",
       "45127          878           404     REQUEST_GET_ARGS    REQUEST_GET_ARGS._   \n",
       "\n",
       "      MATCHED_VARIABLE_VALUE              EVENT_ID  \n",
       "45127              932660840  EWtbHmQB5cBXmMW1rGmH  "
      ]
     },
     "execution_count": 6,
     "metadata": {},
     "output_type": "execute_result"
    }
   ],
   "source": [
    "#define simple raw data\n",
    "get_dataframe_raw = df.copy().sample(1)\n",
    "get_dataframe_raw.head()"
   ]
  },
  {
   "cell_type": "code",
   "execution_count": 7,
   "id": "d448444b-3e54-4dde-9a9e-3035dd84fa1d",
   "metadata": {},
   "outputs": [
    {
     "data": {
      "text/plain": [
       "Index(['CLIENT_IP', 'CLIENT_USERAGENT', 'REQUEST_SIZE', 'RESPONSE_CODE',\n",
       "       'MATCHED_VARIABLE_SRC', 'MATCHED_VARIABLE_NAME',\n",
       "       'MATCHED_VARIABLE_VALUE', 'EVENT_ID'],\n",
       "      dtype='object')"
      ]
     },
     "execution_count": 7,
     "metadata": {},
     "output_type": "execute_result"
    }
   ],
   "source": [
    "get_dataframe_raw.columns"
   ]
  },
  {
   "cell_type": "code",
   "execution_count": 8,
   "id": "9ca0ffc3-bf75-4f07-afc4-bd3d47f155cf",
   "metadata": {},
   "outputs": [
    {
     "name": "stdout",
     "output_type": "stream",
     "text": [
      "[6.4781648e-01 9.8411798e-01 9.4067402e-02 4.1991088e-10 1.6102569e-01\n",
      " 2.8881143e-08 1.2021849e-01 8.4925377e-01 9.7079122e-01 9.6793681e-01]\n",
      "41\n"
     ]
    },
    {
     "name": "stderr",
     "output_type": "stream",
     "text": [
      "/home/gishb/PycharmProjects/PositiveTechnologiesTest/experiments/../utils/DataTransformers.py:32: UserWarning: This pattern is interpreted as a regular expression, and has match groups. To actually get the groups, use str.extract.\n",
      "  self.df['HEADER_pattern'] = self.df[\"CLIENT_USERAGENT\"].str.contains(\"([a-zA-Z]/[\\d].*_*)\").fillna(False)\n"
     ]
    }
   ],
   "source": [
    "#transform and encode the raw data\n",
    "x = DataTransformer(df=get_dataframe_raw, model=mlp_autoencoder).transform()\n",
    "print(x)\n",
    "#predict class of HTTP request\n",
    "predict_class = clf.predict(x)[0]\n",
    "print(predict_class)"
   ]
  },
  {
   "cell_type": "markdown",
   "id": "d861db3e-7aee-482d-93a6-d569db111154",
   "metadata": {},
   "source": [
    "# Define output function"
   ]
  },
  {
   "cell_type": "code",
   "execution_count": 9,
   "id": "4def0dbc-8222-400e-b41d-7f347c8cde6d",
   "metadata": {},
   "outputs": [],
   "source": [
    "def prepaire_json_result(event_id: str, predicted_class: int) -> dict:\n",
    "    return {\"EVENT_ID\": event_id, \"LABEL_PRED\": predicted_class}"
   ]
  },
  {
   "cell_type": "code",
   "execution_count": 10,
   "id": "2cdcf9d3-826d-46ff-8ee7-0e3aee51edec",
   "metadata": {},
   "outputs": [
    {
     "data": {
      "text/plain": [
       "{'EVENT_ID': 'EWtbHmQB5cBXmMW1rGmH', 'LABEL_PRED': 41}"
      ]
     },
     "execution_count": 10,
     "metadata": {},
     "output_type": "execute_result"
    }
   ],
   "source": [
    "prepaire_json_result(get_dataframe_raw.get('EVENT_ID').values[0], predict_class)"
   ]
  },
  {
   "cell_type": "code",
   "execution_count": 13,
   "id": "99653a10-6f46-4c81-9ba5-f259aff755d3",
   "metadata": {},
   "outputs": [],
   "source": [
    "test = [{\n",
    "    \"CLIENT_IP\": \"188.138.92.55\",\n",
    "    \"EVENT_ID\": \"AVdhXFgVq1Ppo9zF5Fxu\",\n",
    "    \"CLIENT_USERAGENT\": \"Mozilla/5.0 (Windows NT 6.3; WOW64; rv:45.0) Gecko/20100101 Firefox/45.0\",\n",
    "    \"REQUEST_SIZE\": 166,\n",
    "    \"RESPONSE_CODE\": 404,\n",
    "    \"MATCHED_VARIABLE_SRC\": \"REQUEST_URI\",\n",
    "    \"MATCHED_VARIABLE_NAME\": \"url\",\n",
    "    \"MATCHED_VARIABLE_VALUE\": \"//tmp/20160925122692indo.php.vob\"\n",
    "}]"
   ]
  },
  {
   "cell_type": "code",
   "execution_count": 64,
   "id": "9c6de5d7-e9b8-464a-bee2-8d40b7d9371a",
   "metadata": {},
   "outputs": [],
   "source": [
    "# curl -X 'POST'   'http://127.0.0.1:8127/predict'   -H 'accept: application/json'   -H 'Content-Type: application/json'   -d '[\n",
    "#   {\n",
    "#     \"CLIENT_IP\": \"188.138.92.55\",\n",
    "#     \"EVENT_ID\": \"AVdhXFgVq1Ppo9zF5Fxu\",\n",
    "#     \"CLIENT_USERAGENT\": \"Mozilla/5.0 (Windows NT 6.3; WOW64; rv:45.0) Gecko/20100101 Firefox/45.0\",\n",
    "#     \"REQUEST_SIZE\": 166,\n",
    "#     \"RESPONSE_CODE\": 404,\n",
    "#     \"MATCHED_VARIABLE_SRC\": \"REQUEST_URI\",\n",
    "#     \"MATCHED_VARIABLE_NAME\": \"url\",\n",
    "#     \"MATCHED_VARIABLE_VALUE\": \"//tmp/20160925122692indo.php.vob\"\n",
    "#   }\n",
    "# ]'\n"
   ]
  },
  {
   "cell_type": "code",
   "execution_count": null,
   "id": "7f9e6e67-31de-4f0f-9d45-ea97a533862d",
   "metadata": {},
   "outputs": [],
   "source": []
  }
 ],
 "metadata": {
  "kernelspec": {
   "display_name": "Python 3 (ipykernel)",
   "language": "python",
   "name": "python3"
  },
  "language_info": {
   "codemirror_mode": {
    "name": "ipython",
    "version": 3
   },
   "file_extension": ".py",
   "mimetype": "text/x-python",
   "name": "python",
   "nbconvert_exporter": "python",
   "pygments_lexer": "ipython3",
   "version": "3.10.12"
  }
 },
 "nbformat": 4,
 "nbformat_minor": 5
}
