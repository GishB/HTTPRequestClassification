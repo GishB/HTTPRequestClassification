{
 "cells": [
  {
   "cell_type": "markdown",
   "id": "d532c54f-5331-4cfe-9a05-d3491ccad3f9",
   "metadata": {},
   "source": [
    "# Note:\n",
    "    Main idea is to train CatBoost Classificator to predict class based on encoded features of an event."
   ]
  },
  {
   "cell_type": "markdown",
   "id": "44886d8a-6462-4a05-9d3f-a3de22801145",
   "metadata": {},
   "source": [
    "# Import libraries"
   ]
  },
  {
   "cell_type": "code",
   "execution_count": 12,
   "id": "8ce38d47-2f41-416e-98c7-c87d82370781",
   "metadata": {},
   "outputs": [],
   "source": [
    "from catboost import CatBoostClassifier, Pool\n",
    "\n",
    "import torch\n",
    "\n",
    "\n",
    "import numpy as np\n",
    "import pandas as pd\n",
    "\n",
    "import matplotlib.pyplot as plt"
   ]
  },
  {
   "cell_type": "markdown",
   "id": "94fb92d7-0063-4790-91c1-281458d4560a",
   "metadata": {},
   "source": [
    "# Import data"
   ]
  },
  {
   "cell_type": "code",
   "execution_count": 2,
   "id": "c526aaef-3f2c-4bdb-9b33-e6b99a26bea5",
   "metadata": {},
   "outputs": [],
   "source": [
    "df_train = pd.read_parquet(\"../data/train_data_features.parquet\")\n",
    "df_test = pd.read_parquet(\"../data/test_data_features.parquet\")\n",
    "df_event_classes = pd.read_parquet(\"../data/event_classes_by_optics_50\")"
   ]
  },
  {
   "cell_type": "code",
   "execution_count": 3,
   "id": "e322702e-120f-4c4b-9341-4e3cab6bbc8e",
   "metadata": {},
   "outputs": [
    {
     "data": {
      "text/html": [
       "<div>\n",
       "<style scoped>\n",
       "    .dataframe tbody tr th:only-of-type {\n",
       "        vertical-align: middle;\n",
       "    }\n",
       "\n",
       "    .dataframe tbody tr th {\n",
       "        vertical-align: top;\n",
       "    }\n",
       "\n",
       "    .dataframe thead th {\n",
       "        text-align: right;\n",
       "    }\n",
       "</style>\n",
       "<table border=\"1\" class=\"dataframe\">\n",
       "  <thead>\n",
       "    <tr style=\"text-align: right;\">\n",
       "      <th></th>\n",
       "      <th>CLIENT_IP</th>\n",
       "      <th>EVENT_ID</th>\n",
       "      <th>HEADER_pattern</th>\n",
       "      <th>BOT_BOOL</th>\n",
       "      <th>CURL_HEAD_BOOL</th>\n",
       "      <th>WGET_HEAD_BOOL</th>\n",
       "      <th>SYMBOL_@</th>\n",
       "      <th>LENGTH_OF_USER_AGENT_HEAD_likely</th>\n",
       "      <th>windows_bool</th>\n",
       "      <th>linux_bool</th>\n",
       "      <th>...</th>\n",
       "      <th>REQUEST_URI\\';\\'REQUEST_ARGS</th>\n",
       "      <th>REQUEST_XML</th>\n",
       "      <th>RESPONSE_BODY</th>\n",
       "      <th>RESPONSE_HEADERS</th>\n",
       "      <th>2</th>\n",
       "      <th>3</th>\n",
       "      <th>4</th>\n",
       "      <th>5</th>\n",
       "      <th>Anomaly TOP</th>\n",
       "      <th>user_expected</th>\n",
       "    </tr>\n",
       "  </thead>\n",
       "  <tbody>\n",
       "    <tr>\n",
       "      <th>9497</th>\n",
       "      <td>186.177.157.252</td>\n",
       "      <td>AVdZr3EHq1Ppo9zF1E1J</td>\n",
       "      <td>True</td>\n",
       "      <td>False</td>\n",
       "      <td>False</td>\n",
       "      <td>False</td>\n",
       "      <td>False</td>\n",
       "      <td>True</td>\n",
       "      <td>True</td>\n",
       "      <td>False</td>\n",
       "      <td>...</td>\n",
       "      <td>False</td>\n",
       "      <td>False</td>\n",
       "      <td>False</td>\n",
       "      <td>False</td>\n",
       "      <td>False</td>\n",
       "      <td>True</td>\n",
       "      <td>False</td>\n",
       "      <td>False</td>\n",
       "      <td>False</td>\n",
       "      <td>True</td>\n",
       "    </tr>\n",
       "    <tr>\n",
       "      <th>37540</th>\n",
       "      <td>217.175.140.69</td>\n",
       "      <td>1Fu9HGQB5cBXmMW1wjDp</td>\n",
       "      <td>True</td>\n",
       "      <td>False</td>\n",
       "      <td>False</td>\n",
       "      <td>False</td>\n",
       "      <td>False</td>\n",
       "      <td>True</td>\n",
       "      <td>True</td>\n",
       "      <td>False</td>\n",
       "      <td>...</td>\n",
       "      <td>False</td>\n",
       "      <td>False</td>\n",
       "      <td>False</td>\n",
       "      <td>False</td>\n",
       "      <td>True</td>\n",
       "      <td>False</td>\n",
       "      <td>False</td>\n",
       "      <td>False</td>\n",
       "      <td>False</td>\n",
       "      <td>True</td>\n",
       "    </tr>\n",
       "    <tr>\n",
       "      <th>49419</th>\n",
       "      <td>90.151.84.224</td>\n",
       "      <td>XK8XJGQB5cBXmMW1Dof6</td>\n",
       "      <td>True</td>\n",
       "      <td>False</td>\n",
       "      <td>False</td>\n",
       "      <td>False</td>\n",
       "      <td>False</td>\n",
       "      <td>True</td>\n",
       "      <td>True</td>\n",
       "      <td>False</td>\n",
       "      <td>...</td>\n",
       "      <td>False</td>\n",
       "      <td>False</td>\n",
       "      <td>False</td>\n",
       "      <td>False</td>\n",
       "      <td>False</td>\n",
       "      <td>False</td>\n",
       "      <td>True</td>\n",
       "      <td>False</td>\n",
       "      <td>False</td>\n",
       "      <td>True</td>\n",
       "    </tr>\n",
       "    <tr>\n",
       "      <th>40601</th>\n",
       "      <td>85.234.117.8</td>\n",
       "      <td>x7s9JWQB5cBXmMW1Rmbn</td>\n",
       "      <td>True</td>\n",
       "      <td>False</td>\n",
       "      <td>False</td>\n",
       "      <td>False</td>\n",
       "      <td>False</td>\n",
       "      <td>True</td>\n",
       "      <td>True</td>\n",
       "      <td>False</td>\n",
       "      <td>...</td>\n",
       "      <td>False</td>\n",
       "      <td>False</td>\n",
       "      <td>False</td>\n",
       "      <td>False</td>\n",
       "      <td>False</td>\n",
       "      <td>False</td>\n",
       "      <td>True</td>\n",
       "      <td>False</td>\n",
       "      <td>False</td>\n",
       "      <td>True</td>\n",
       "    </tr>\n",
       "    <tr>\n",
       "      <th>9767</th>\n",
       "      <td>195.222.10.251</td>\n",
       "      <td>Ccoc_2MBjksgoq1eTn4W</td>\n",
       "      <td>True</td>\n",
       "      <td>False</td>\n",
       "      <td>False</td>\n",
       "      <td>False</td>\n",
       "      <td>False</td>\n",
       "      <td>True</td>\n",
       "      <td>False</td>\n",
       "      <td>True</td>\n",
       "      <td>...</td>\n",
       "      <td>False</td>\n",
       "      <td>False</td>\n",
       "      <td>False</td>\n",
       "      <td>False</td>\n",
       "      <td>True</td>\n",
       "      <td>False</td>\n",
       "      <td>False</td>\n",
       "      <td>False</td>\n",
       "      <td>False</td>\n",
       "      <td>True</td>\n",
       "    </tr>\n",
       "  </tbody>\n",
       "</table>\n",
       "<p>5 rows × 44 columns</p>\n",
       "</div>"
      ],
      "text/plain": [
       "             CLIENT_IP              EVENT_ID  HEADER_pattern  BOT_BOOL  \\\n",
       "9497   186.177.157.252  AVdZr3EHq1Ppo9zF1E1J            True     False   \n",
       "37540   217.175.140.69  1Fu9HGQB5cBXmMW1wjDp            True     False   \n",
       "49419    90.151.84.224  XK8XJGQB5cBXmMW1Dof6            True     False   \n",
       "40601     85.234.117.8  x7s9JWQB5cBXmMW1Rmbn            True     False   \n",
       "9767    195.222.10.251  Ccoc_2MBjksgoq1eTn4W            True     False   \n",
       "\n",
       "       CURL_HEAD_BOOL  WGET_HEAD_BOOL  SYMBOL_@  \\\n",
       "9497            False           False     False   \n",
       "37540           False           False     False   \n",
       "49419           False           False     False   \n",
       "40601           False           False     False   \n",
       "9767            False           False     False   \n",
       "\n",
       "       LENGTH_OF_USER_AGENT_HEAD_likely  windows_bool  linux_bool  ...  \\\n",
       "9497                               True          True       False  ...   \n",
       "37540                              True          True       False  ...   \n",
       "49419                              True          True       False  ...   \n",
       "40601                              True          True       False  ...   \n",
       "9767                               True         False        True  ...   \n",
       "\n",
       "       REQUEST_URI\\';\\'REQUEST_ARGS  REQUEST_XML  RESPONSE_BODY  \\\n",
       "9497                          False        False          False   \n",
       "37540                         False        False          False   \n",
       "49419                         False        False          False   \n",
       "40601                         False        False          False   \n",
       "9767                          False        False          False   \n",
       "\n",
       "       RESPONSE_HEADERS      2      3      4      5  Anomaly TOP  \\\n",
       "9497              False  False   True  False  False        False   \n",
       "37540             False   True  False  False  False        False   \n",
       "49419             False  False  False   True  False        False   \n",
       "40601             False  False  False   True  False        False   \n",
       "9767              False   True  False  False  False        False   \n",
       "\n",
       "       user_expected  \n",
       "9497            True  \n",
       "37540           True  \n",
       "49419           True  \n",
       "40601           True  \n",
       "9767            True  \n",
       "\n",
       "[5 rows x 44 columns]"
      ]
     },
     "execution_count": 3,
     "metadata": {},
     "output_type": "execute_result"
    }
   ],
   "source": [
    "df_train.head()"
   ]
  },
  {
   "cell_type": "code",
   "execution_count": 4,
   "id": "7dd5482a-5c32-42e8-a3e0-02d0b9d1c523",
   "metadata": {},
   "outputs": [
    {
     "data": {
      "text/html": [
       "<div>\n",
       "<style scoped>\n",
       "    .dataframe tbody tr th:only-of-type {\n",
       "        vertical-align: middle;\n",
       "    }\n",
       "\n",
       "    .dataframe tbody tr th {\n",
       "        vertical-align: top;\n",
       "    }\n",
       "\n",
       "    .dataframe thead th {\n",
       "        text-align: right;\n",
       "    }\n",
       "</style>\n",
       "<table border=\"1\" class=\"dataframe\">\n",
       "  <thead>\n",
       "    <tr style=\"text-align: right;\">\n",
       "      <th></th>\n",
       "      <th>CLIENT_IP</th>\n",
       "      <th>EVENT_ID</th>\n",
       "      <th>HEADER_pattern</th>\n",
       "      <th>BOT_BOOL</th>\n",
       "      <th>CURL_HEAD_BOOL</th>\n",
       "      <th>WGET_HEAD_BOOL</th>\n",
       "      <th>SYMBOL_@</th>\n",
       "      <th>LENGTH_OF_USER_AGENT_HEAD_likely</th>\n",
       "      <th>windows_bool</th>\n",
       "      <th>linux_bool</th>\n",
       "      <th>...</th>\n",
       "      <th>REQUEST_URI\\';\\'REQUEST_ARGS</th>\n",
       "      <th>REQUEST_XML</th>\n",
       "      <th>RESPONSE_BODY</th>\n",
       "      <th>RESPONSE_HEADERS</th>\n",
       "      <th>2</th>\n",
       "      <th>3</th>\n",
       "      <th>4</th>\n",
       "      <th>5</th>\n",
       "      <th>Anomaly TOP</th>\n",
       "      <th>user_expected</th>\n",
       "    </tr>\n",
       "  </thead>\n",
       "  <tbody>\n",
       "    <tr>\n",
       "      <th>23799</th>\n",
       "      <td>217.175.140.69</td>\n",
       "      <td>a14dHWQB5cBXmMW1Dl2w</td>\n",
       "      <td>True</td>\n",
       "      <td>False</td>\n",
       "      <td>False</td>\n",
       "      <td>False</td>\n",
       "      <td>False</td>\n",
       "      <td>True</td>\n",
       "      <td>True</td>\n",
       "      <td>False</td>\n",
       "      <td>...</td>\n",
       "      <td>False</td>\n",
       "      <td>False</td>\n",
       "      <td>False</td>\n",
       "      <td>False</td>\n",
       "      <td>False</td>\n",
       "      <td>False</td>\n",
       "      <td>False</td>\n",
       "      <td>True</td>\n",
       "      <td>False</td>\n",
       "      <td>True</td>\n",
       "    </tr>\n",
       "    <tr>\n",
       "      <th>51955</th>\n",
       "      <td>91.103.66.203</td>\n",
       "      <td>NZo5ImQB5cBXmMW14djt</td>\n",
       "      <td>True</td>\n",
       "      <td>False</td>\n",
       "      <td>False</td>\n",
       "      <td>False</td>\n",
       "      <td>False</td>\n",
       "      <td>True</td>\n",
       "      <td>True</td>\n",
       "      <td>False</td>\n",
       "      <td>...</td>\n",
       "      <td>False</td>\n",
       "      <td>False</td>\n",
       "      <td>False</td>\n",
       "      <td>False</td>\n",
       "      <td>False</td>\n",
       "      <td>False</td>\n",
       "      <td>True</td>\n",
       "      <td>False</td>\n",
       "      <td>False</td>\n",
       "      <td>True</td>\n",
       "    </tr>\n",
       "    <tr>\n",
       "      <th>9625</th>\n",
       "      <td>185.70.104.11</td>\n",
       "      <td>AVdqkkhHq1Ppo9zF-FYT</td>\n",
       "      <td>True</td>\n",
       "      <td>False</td>\n",
       "      <td>False</td>\n",
       "      <td>False</td>\n",
       "      <td>False</td>\n",
       "      <td>True</td>\n",
       "      <td>False</td>\n",
       "      <td>False</td>\n",
       "      <td>...</td>\n",
       "      <td>False</td>\n",
       "      <td>False</td>\n",
       "      <td>False</td>\n",
       "      <td>False</td>\n",
       "      <td>True</td>\n",
       "      <td>False</td>\n",
       "      <td>False</td>\n",
       "      <td>False</td>\n",
       "      <td>False</td>\n",
       "      <td>True</td>\n",
       "    </tr>\n",
       "    <tr>\n",
       "      <th>22484</th>\n",
       "      <td>95.188.66.154</td>\n",
       "      <td>wMC-E2QBoRd31uenQbLg</td>\n",
       "      <td>True</td>\n",
       "      <td>False</td>\n",
       "      <td>False</td>\n",
       "      <td>False</td>\n",
       "      <td>False</td>\n",
       "      <td>True</td>\n",
       "      <td>True</td>\n",
       "      <td>False</td>\n",
       "      <td>...</td>\n",
       "      <td>False</td>\n",
       "      <td>False</td>\n",
       "      <td>False</td>\n",
       "      <td>False</td>\n",
       "      <td>True</td>\n",
       "      <td>False</td>\n",
       "      <td>False</td>\n",
       "      <td>False</td>\n",
       "      <td>False</td>\n",
       "      <td>True</td>\n",
       "    </tr>\n",
       "    <tr>\n",
       "      <th>191</th>\n",
       "      <td>5.19.178.227</td>\n",
       "      <td>joV2IGQB5cBXmMW1JJXD</td>\n",
       "      <td>True</td>\n",
       "      <td>False</td>\n",
       "      <td>False</td>\n",
       "      <td>False</td>\n",
       "      <td>False</td>\n",
       "      <td>True</td>\n",
       "      <td>True</td>\n",
       "      <td>False</td>\n",
       "      <td>...</td>\n",
       "      <td>False</td>\n",
       "      <td>False</td>\n",
       "      <td>False</td>\n",
       "      <td>False</td>\n",
       "      <td>False</td>\n",
       "      <td>False</td>\n",
       "      <td>True</td>\n",
       "      <td>False</td>\n",
       "      <td>False</td>\n",
       "      <td>True</td>\n",
       "    </tr>\n",
       "  </tbody>\n",
       "</table>\n",
       "<p>5 rows × 44 columns</p>\n",
       "</div>"
      ],
      "text/plain": [
       "            CLIENT_IP              EVENT_ID  HEADER_pattern  BOT_BOOL  \\\n",
       "23799  217.175.140.69  a14dHWQB5cBXmMW1Dl2w            True     False   \n",
       "51955   91.103.66.203  NZo5ImQB5cBXmMW14djt            True     False   \n",
       "9625    185.70.104.11  AVdqkkhHq1Ppo9zF-FYT            True     False   \n",
       "22484   95.188.66.154  wMC-E2QBoRd31uenQbLg            True     False   \n",
       "191      5.19.178.227  joV2IGQB5cBXmMW1JJXD            True     False   \n",
       "\n",
       "       CURL_HEAD_BOOL  WGET_HEAD_BOOL  SYMBOL_@  \\\n",
       "23799           False           False     False   \n",
       "51955           False           False     False   \n",
       "9625            False           False     False   \n",
       "22484           False           False     False   \n",
       "191             False           False     False   \n",
       "\n",
       "       LENGTH_OF_USER_AGENT_HEAD_likely  windows_bool  linux_bool  ...  \\\n",
       "23799                              True          True       False  ...   \n",
       "51955                              True          True       False  ...   \n",
       "9625                               True         False       False  ...   \n",
       "22484                              True          True       False  ...   \n",
       "191                                True          True       False  ...   \n",
       "\n",
       "       REQUEST_URI\\';\\'REQUEST_ARGS  REQUEST_XML  RESPONSE_BODY  \\\n",
       "23799                         False        False          False   \n",
       "51955                         False        False          False   \n",
       "9625                          False        False          False   \n",
       "22484                         False        False          False   \n",
       "191                           False        False          False   \n",
       "\n",
       "       RESPONSE_HEADERS      2      3      4      5  Anomaly TOP  \\\n",
       "23799             False  False  False  False   True        False   \n",
       "51955             False  False  False   True  False        False   \n",
       "9625              False   True  False  False  False        False   \n",
       "22484             False   True  False  False  False        False   \n",
       "191               False  False  False   True  False        False   \n",
       "\n",
       "       user_expected  \n",
       "23799           True  \n",
       "51955           True  \n",
       "9625            True  \n",
       "22484           True  \n",
       "191             True  \n",
       "\n",
       "[5 rows x 44 columns]"
      ]
     },
     "execution_count": 4,
     "metadata": {},
     "output_type": "execute_result"
    }
   ],
   "source": [
    "df_test.head()"
   ]
  },
  {
   "cell_type": "code",
   "execution_count": 5,
   "id": "3b7bc472-8b89-4c2d-be0d-c4f56b326763",
   "metadata": {},
   "outputs": [
    {
     "data": {
      "text/html": [
       "<div>\n",
       "<style scoped>\n",
       "    .dataframe tbody tr th:only-of-type {\n",
       "        vertical-align: middle;\n",
       "    }\n",
       "\n",
       "    .dataframe tbody tr th {\n",
       "        vertical-align: top;\n",
       "    }\n",
       "\n",
       "    .dataframe thead th {\n",
       "        text-align: right;\n",
       "    }\n",
       "</style>\n",
       "<table border=\"1\" class=\"dataframe\">\n",
       "  <thead>\n",
       "    <tr style=\"text-align: right;\">\n",
       "      <th></th>\n",
       "      <th>EVENT_ID</th>\n",
       "      <th>class</th>\n",
       "    </tr>\n",
       "  </thead>\n",
       "  <tbody>\n",
       "    <tr>\n",
       "      <th>0</th>\n",
       "      <td>AVdcJmIIq1Ppo9zF2YIp</td>\n",
       "      <td>0</td>\n",
       "    </tr>\n",
       "    <tr>\n",
       "      <th>1</th>\n",
       "      <td>iz7SN2YBrgKk_RFNZW_U</td>\n",
       "      <td>-1</td>\n",
       "    </tr>\n",
       "    <tr>\n",
       "      <th>2</th>\n",
       "      <td>AVdjekw4q1Ppo9zF6QT2</td>\n",
       "      <td>0</td>\n",
       "    </tr>\n",
       "    <tr>\n",
       "      <th>3</th>\n",
       "      <td>SqQGI2QB5cBXmMW1CDbp</td>\n",
       "      <td>-1</td>\n",
       "    </tr>\n",
       "    <tr>\n",
       "      <th>4</th>\n",
       "      <td>nFzwHGQB5cBXmMW1y_TD</td>\n",
       "      <td>39</td>\n",
       "    </tr>\n",
       "  </tbody>\n",
       "</table>\n",
       "</div>"
      ],
      "text/plain": [
       "               EVENT_ID  class\n",
       "0  AVdcJmIIq1Ppo9zF2YIp      0\n",
       "1  iz7SN2YBrgKk_RFNZW_U     -1\n",
       "2  AVdjekw4q1Ppo9zF6QT2      0\n",
       "3  SqQGI2QB5cBXmMW1CDbp     -1\n",
       "4  nFzwHGQB5cBXmMW1y_TD     39"
      ]
     },
     "execution_count": 5,
     "metadata": {},
     "output_type": "execute_result"
    }
   ],
   "source": [
    "df_event_classes.head()"
   ]
  },
  {
   "cell_type": "markdown",
   "id": "d82487c0-1616-4475-a2ff-87322de57bfa",
   "metadata": {},
   "source": [
    "# Initial preprocess pipline"
   ]
  },
  {
   "cell_type": "markdown",
   "id": "34991e66-66ab-4d90-977c-960170aa9c7b",
   "metadata": {},
   "source": [
    "### preprocess df_test and df_train "
   ]
  },
  {
   "cell_type": "code",
   "execution_count": 6,
   "id": "97c33e5c-ac69-49ce-94a5-783c4710a98f",
   "metadata": {},
   "outputs": [],
   "source": [
    "df_train = pd.merge(df_train, df_event_classes, on=['EVENT_ID']).drop(axis=1, columns=[\"CLIENT_IP\", \"EVENT_ID\"])"
   ]
  },
  {
   "cell_type": "code",
   "execution_count": 7,
   "id": "6b17156e-c701-4cb0-af8f-a6dc64e3769e",
   "metadata": {},
   "outputs": [],
   "source": [
    "df_test = pd.merge(df_test, df_event_classes, on=['EVENT_ID']).drop(axis=1, columns=[\"CLIENT_IP\", \"EVENT_ID\"])"
   ]
  },
  {
   "cell_type": "code",
   "execution_count": 10,
   "id": "10d9d2ca-aea4-4417-b1ca-e460e5e1f0b8",
   "metadata": {},
   "outputs": [],
   "source": [
    "#reset index \n",
    "df_train = df_train.reset_index(drop=True)\n",
    "df_test = df_test.reset_index(drop=True)"
   ]
  },
  {
   "cell_type": "markdown",
   "id": "3d0cd0b9-61aa-496b-ade1-40b5ac8dffe2",
   "metadata": {},
   "source": [
    "### load MLP autoencdoer"
   ]
  },
  {
   "cell_type": "code",
   "execution_count": 24,
   "id": "19427ba6-4b88-4b60-b328-1c81c01f3927",
   "metadata": {},
   "outputs": [],
   "source": [
    "model = torch.jit.load('../models/baseline_mlp_autoencdoer.pt')\n",
    "@torch.inference_mode()\n",
    "def encode_data(model, data) -> np.array:\n",
    "    model.eval()\n",
    "    return model.encoder(torch.Tensor(data.astype(float)).unsqueeze(0).view(1,1,42)).view(10).numpy()"
   ]
  },
  {
   "cell_type": "code",
   "execution_count": 25,
   "id": "83b65b3d-fae8-4795-b302-35c432e4ffef",
   "metadata": {},
   "outputs": [],
   "source": [
    "list_of_train_features = []\n",
    "for row in df_train.values:\n",
    "    row = row[:-1]\n",
    "    list_of_train_features.append(encode_data(model, np.array(row)))\n",
    "list_of_train_features = np.array(list_of_train_features)"
   ]
  },
  {
   "cell_type": "code",
   "execution_count": 30,
   "id": "d30bd90f-9557-45ec-8a07-90eaefe614b3",
   "metadata": {},
   "outputs": [
    {
     "data": {
      "text/plain": [
       "(48490, 10)"
      ]
     },
     "execution_count": 30,
     "metadata": {},
     "output_type": "execute_result"
    }
   ],
   "source": [
    "list_of_train_features.shape"
   ]
  },
  {
   "cell_type": "code",
   "execution_count": 26,
   "id": "21037e04-49e9-42bd-9336-ae0cd7dea079",
   "metadata": {},
   "outputs": [],
   "source": [
    "list_of_test_features = []\n",
    "for row in df_test.values:\n",
    "    row = row[:-1]\n",
    "    list_of_test_features.append(encode_data(model, np.array(row)))\n",
    "list_of_test_features = np.array(list_of_test_features)"
   ]
  },
  {
   "cell_type": "code",
   "execution_count": 28,
   "id": "a7c1e3ab-5f8c-4fce-9cf3-81871cad70ea",
   "metadata": {},
   "outputs": [
    {
     "data": {
      "text/plain": [
       "(9773, 10)"
      ]
     },
     "execution_count": 28,
     "metadata": {},
     "output_type": "execute_result"
    }
   ],
   "source": [
    "list_of_test_features.shape"
   ]
  },
  {
   "cell_type": "markdown",
   "id": "73dd898a-87bc-4b7c-a496-291ff186e9a4",
   "metadata": {},
   "source": [
    "# Prepaire data for training and test via CatBoost"
   ]
  },
  {
   "cell_type": "code",
   "execution_count": 31,
   "id": "4e8b81c3-497c-4391-9837-b2cf5514fe87",
   "metadata": {},
   "outputs": [],
   "source": [
    "train_dataset = Pool(list_of_train_features,\n",
    "                     df_train['class'])"
   ]
  },
  {
   "cell_type": "code",
   "execution_count": 33,
   "id": "131a6b03-4e31-44c9-9aa9-f01f1a3d17db",
   "metadata": {},
   "outputs": [],
   "source": [
    "test_dataset = Pool(list_of_test_features,\n",
    "                    df_test['class'])"
   ]
  },
  {
   "cell_type": "markdown",
   "id": "2e5f3cc4-ccb6-4749-82da-8880ca4f2b77",
   "metadata": {},
   "source": [
    "# Init CatBoost and Train"
   ]
  },
  {
   "cell_type": "code",
   "execution_count": 37,
   "id": "c7f07e63-54b9-4e34-9165-b9a8eadded08",
   "metadata": {},
   "outputs": [],
   "source": [
    "model = CatBoostClassifier(learning_rate=1e-1,\n",
    "                           eval_metric='Accuracy',\n",
    "                           l2_leaf_reg=10)"
   ]
  },
  {
   "cell_type": "code",
   "execution_count": 43,
   "id": "b5e4b12a-0761-4ee9-9ee6-b3f39217cfb5",
   "metadata": {},
   "outputs": [
    {
     "data": {
      "application/vnd.jupyter.widget-view+json": {
       "model_id": "b392bcee4afc406cbd1e937b46b117df",
       "version_major": 2,
       "version_minor": 0
      },
      "text/plain": [
       "MetricVisualizer(layout=Layout(align_self='stretch', height='500px'))"
      ]
     },
     "metadata": {},
     "output_type": "display_data"
    },
    {
     "data": {
      "text/plain": [
       "<catboost.core.CatBoostClassifier at 0x7f7a2cac07c0>"
      ]
     },
     "execution_count": 43,
     "metadata": {},
     "output_type": "execute_result"
    }
   ],
   "source": [
    "model.fit(train_dataset,\n",
    "          eval_set=test_dataset,\n",
    "          verbose=False,\n",
    "          plot=True)"
   ]
  },
  {
   "cell_type": "code",
   "execution_count": 44,
   "id": "58454232-e417-4823-b3ff-88de9945863b",
   "metadata": {},
   "outputs": [
    {
     "data": {
      "text/plain": [
       "{'learn': {'Accuracy': 0.9343782223138791, 'MultiClass': 0.24299713233132667},\n",
       " 'validation': {'Accuracy': 0.9305228691292337,\n",
       "  'MultiClass': 0.2666716608415625}}"
      ]
     },
     "execution_count": 44,
     "metadata": {},
     "output_type": "execute_result"
    }
   ],
   "source": [
    "model.best_score_"
   ]
  },
  {
   "cell_type": "markdown",
   "id": "bf6b2c04-9626-487d-8be4-101cf21d07af",
   "metadata": {},
   "source": [
    "# Check model"
   ]
  },
  {
   "cell_type": "code",
   "execution_count": 45,
   "id": "2d22edcb-610a-4767-9d12-c838893c84d5",
   "metadata": {},
   "outputs": [],
   "source": [
    "from sklearn.metrics import accuracy_score\n",
    "from sklearn.metrics import f1_score\n",
    "from sklearn.metrics import classification_report\n",
    "from sklearn.metrics import roc_auc_score\n",
    "\n",
    "from sklearn import metrics"
   ]
  },
  {
   "cell_type": "code",
   "execution_count": 46,
   "id": "49039d42-df57-44b5-b8f2-b21b674d794a",
   "metadata": {},
   "outputs": [],
   "source": [
    "preds = model.predict(list_of_test_features)"
   ]
  },
  {
   "cell_type": "code",
   "execution_count": 47,
   "id": "4a706a0f-ebd8-4891-bdf7-6a4714c30c94",
   "metadata": {},
   "outputs": [
    {
     "name": "stdout",
     "output_type": "stream",
     "text": [
      "              precision    recall  f1-score   support\n",
      "\n",
      "          -1       0.95      0.95      0.95      1845\n",
      "           0       1.00      1.00      1.00        99\n",
      "           1       0.98      0.94      0.96       143\n",
      "           2       0.97      1.00      0.99       113\n",
      "           3       0.91      0.94      0.92       266\n",
      "           4       0.98      0.99      0.98       217\n",
      "           5       0.94      0.93      0.93       312\n",
      "           6       0.99      0.98      0.99       191\n",
      "           7       0.96      0.96      0.96       108\n",
      "           8       0.93      0.94      0.94        88\n",
      "           9       1.00      1.00      1.00        86\n",
      "          10       0.77      0.79      0.78       216\n",
      "          11       0.83      0.85      0.84       214\n",
      "          12       0.99      1.00      1.00       136\n",
      "          13       0.96      0.97      0.96       181\n",
      "          14       1.00      0.99      0.99       175\n",
      "          15       0.87      0.84      0.85       278\n",
      "          16       1.00      1.00      1.00       179\n",
      "          17       0.67      0.73      0.70       126\n",
      "          18       0.81      0.80      0.81       215\n",
      "          19       0.99      1.00      1.00       120\n",
      "          20       0.90      0.83      0.86        95\n",
      "          21       0.89      0.89      0.89        84\n",
      "          22       0.91      0.96      0.93       149\n",
      "          23       0.96      0.93      0.95        86\n",
      "          24       0.99      0.99      0.99       135\n",
      "          25       0.95      0.95      0.95       140\n",
      "          26       0.99      1.00      0.99        82\n",
      "          27       0.97      0.96      0.97       255\n",
      "          28       1.00      1.00      1.00       209\n",
      "          29       0.98      0.98      0.98       104\n",
      "          30       0.95      0.96      0.96       209\n",
      "          31       0.89      0.88      0.89       137\n",
      "          32       0.98      0.95      0.96       187\n",
      "          33       0.95      0.90      0.93        93\n",
      "          34       0.89      0.90      0.89       140\n",
      "          35       0.98      0.86      0.91        97\n",
      "          36       0.92      0.92      0.92       106\n",
      "          37       0.88      0.88      0.88       148\n",
      "          38       0.91      0.90      0.90       137\n",
      "          39       0.89      0.86      0.88       197\n",
      "          40       0.86      0.86      0.86       207\n",
      "          41       0.94      0.95      0.94       288\n",
      "          42       0.99      0.99      0.99       125\n",
      "          43       0.99      0.99      0.99       150\n",
      "          44       0.99      1.00      0.99       203\n",
      "          45       0.86      0.88      0.87       169\n",
      "          46       0.83      0.88      0.85       153\n",
      "          47       0.94      0.96      0.95       282\n",
      "          48       0.82      0.82      0.82        98\n",
      "\n",
      "    accuracy                           0.93      9773\n",
      "   macro avg       0.93      0.93      0.93      9773\n",
      "weighted avg       0.93      0.93      0.93      9773\n",
      "\n"
     ]
    }
   ],
   "source": [
    "print(classification_report(preds, df_test['class']))"
   ]
  },
  {
   "cell_type": "markdown",
   "id": "ebd0ac7f-b670-4712-9c1f-02cb19f300b1",
   "metadata": {},
   "source": [
    "# Save model"
   ]
  },
  {
   "cell_type": "code",
   "execution_count": 49,
   "id": "865732a5-7676-485e-91cb-18ade2933349",
   "metadata": {},
   "outputs": [],
   "source": [
    "# model.save_model('../models/catboost_accuracy_093_over50class.pkl')"
   ]
  }
 ],
 "metadata": {
  "kernelspec": {
   "display_name": "Python 3 (ipykernel)",
   "language": "python",
   "name": "python3"
  },
  "language_info": {
   "codemirror_mode": {
    "name": "ipython",
    "version": 3
   },
   "file_extension": ".py",
   "mimetype": "text/x-python",
   "name": "python",
   "nbconvert_exporter": "python",
   "pygments_lexer": "ipython3",
   "version": "3.10.12"
  }
 },
 "nbformat": 4,
 "nbformat_minor": 5
}
