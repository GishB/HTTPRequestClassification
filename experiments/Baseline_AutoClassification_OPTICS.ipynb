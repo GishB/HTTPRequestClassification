{
 "cells": [
  {
   "cell_type": "markdown",
   "id": "da593b26-79a4-4028-827a-013374ef7e9a",
   "metadata": {},
   "source": [
    "#### Note: \n",
    "    Here main idea is to find class of an object based on encoded HTML features."
   ]
  },
  {
   "cell_type": "markdown",
   "id": "eea78305-2801-4178-b430-27985b541cc5",
   "metadata": {},
   "source": [
    "# Import libs"
   ]
  },
  {
   "cell_type": "code",
   "execution_count": 1,
   "id": "41305bb3-3522-45f7-8ec7-8f7de2906e1c",
   "metadata": {},
   "outputs": [],
   "source": [
    "import torch\n",
    "\n",
    "\n",
    "import numpy as np\n",
    "import pandas as pd\n",
    "\n",
    "import matplotlib.pyplot as plt"
   ]
  },
  {
   "cell_type": "markdown",
   "id": "5fe585c9-f2a1-4b30-81e2-37b88f769562",
   "metadata": {},
   "source": [
    "# Import data"
   ]
  },
  {
   "cell_type": "code",
   "execution_count": 2,
   "id": "9f72f4f0-51e7-45d4-89aa-8a802222da7b",
   "metadata": {},
   "outputs": [],
   "source": [
    "df = pd.read_parquet(\"../data/experiment_eda.parquet\")"
   ]
  },
  {
   "cell_type": "code",
   "execution_count": 3,
   "id": "5c4187b1-1121-48cd-987a-273e630a622b",
   "metadata": {},
   "outputs": [
    {
     "data": {
      "text/html": [
       "<div>\n",
       "<style scoped>\n",
       "    .dataframe tbody tr th:only-of-type {\n",
       "        vertical-align: middle;\n",
       "    }\n",
       "\n",
       "    .dataframe tbody tr th {\n",
       "        vertical-align: top;\n",
       "    }\n",
       "\n",
       "    .dataframe thead th {\n",
       "        text-align: right;\n",
       "    }\n",
       "</style>\n",
       "<table border=\"1\" class=\"dataframe\">\n",
       "  <thead>\n",
       "    <tr style=\"text-align: right;\">\n",
       "      <th></th>\n",
       "      <th>CLIENT_IP</th>\n",
       "      <th>EVENT_ID</th>\n",
       "      <th>HEADER_pattern</th>\n",
       "      <th>BOT_BOOL</th>\n",
       "      <th>CURL_HEAD_BOOL</th>\n",
       "      <th>WGET_HEAD_BOOL</th>\n",
       "      <th>SYMBOL_@</th>\n",
       "      <th>LENGTH_OF_USER_AGENT_HEAD_likely</th>\n",
       "      <th>windows_bool</th>\n",
       "      <th>linux_bool</th>\n",
       "      <th>...</th>\n",
       "      <th>REQUEST_URI\\';\\'REQUEST_ARGS</th>\n",
       "      <th>REQUEST_XML</th>\n",
       "      <th>RESPONSE_BODY</th>\n",
       "      <th>RESPONSE_HEADERS</th>\n",
       "      <th>2</th>\n",
       "      <th>3</th>\n",
       "      <th>4</th>\n",
       "      <th>5</th>\n",
       "      <th>Anomaly TOP</th>\n",
       "      <th>user_expected</th>\n",
       "    </tr>\n",
       "  </thead>\n",
       "  <tbody>\n",
       "    <tr>\n",
       "      <th>0</th>\n",
       "      <td>93.158.215.131</td>\n",
       "      <td>AVdcJmIIq1Ppo9zF2YIp</td>\n",
       "      <td>True</td>\n",
       "      <td>False</td>\n",
       "      <td>False</td>\n",
       "      <td>False</td>\n",
       "      <td>False</td>\n",
       "      <td>True</td>\n",
       "      <td>True</td>\n",
       "      <td>False</td>\n",
       "      <td>...</td>\n",
       "      <td>False</td>\n",
       "      <td>False</td>\n",
       "      <td>False</td>\n",
       "      <td>False</td>\n",
       "      <td>False</td>\n",
       "      <td>True</td>\n",
       "      <td>False</td>\n",
       "      <td>False</td>\n",
       "      <td>False</td>\n",
       "      <td>True</td>\n",
       "    </tr>\n",
       "    <tr>\n",
       "      <th>1</th>\n",
       "      <td>176.123.240.64</td>\n",
       "      <td>iz7SN2YBrgKk_RFNZW_U</td>\n",
       "      <td>True</td>\n",
       "      <td>False</td>\n",
       "      <td>False</td>\n",
       "      <td>False</td>\n",
       "      <td>False</td>\n",
       "      <td>True</td>\n",
       "      <td>True</td>\n",
       "      <td>False</td>\n",
       "      <td>...</td>\n",
       "      <td>False</td>\n",
       "      <td>False</td>\n",
       "      <td>False</td>\n",
       "      <td>False</td>\n",
       "      <td>False</td>\n",
       "      <td>False</td>\n",
       "      <td>True</td>\n",
       "      <td>False</td>\n",
       "      <td>False</td>\n",
       "      <td>True</td>\n",
       "    </tr>\n",
       "    <tr>\n",
       "      <th>2</th>\n",
       "      <td>73.78.81.63</td>\n",
       "      <td>AVdjekw4q1Ppo9zF6QT2</td>\n",
       "      <td>True</td>\n",
       "      <td>False</td>\n",
       "      <td>False</td>\n",
       "      <td>False</td>\n",
       "      <td>False</td>\n",
       "      <td>True</td>\n",
       "      <td>True</td>\n",
       "      <td>False</td>\n",
       "      <td>...</td>\n",
       "      <td>False</td>\n",
       "      <td>False</td>\n",
       "      <td>False</td>\n",
       "      <td>False</td>\n",
       "      <td>False</td>\n",
       "      <td>True</td>\n",
       "      <td>False</td>\n",
       "      <td>False</td>\n",
       "      <td>False</td>\n",
       "      <td>True</td>\n",
       "    </tr>\n",
       "    <tr>\n",
       "      <th>3</th>\n",
       "      <td>66.102.9.44</td>\n",
       "      <td>SqQGI2QB5cBXmMW1CDbp</td>\n",
       "      <td>True</td>\n",
       "      <td>False</td>\n",
       "      <td>False</td>\n",
       "      <td>False</td>\n",
       "      <td>False</td>\n",
       "      <td>True</td>\n",
       "      <td>False</td>\n",
       "      <td>True</td>\n",
       "      <td>...</td>\n",
       "      <td>False</td>\n",
       "      <td>False</td>\n",
       "      <td>False</td>\n",
       "      <td>False</td>\n",
       "      <td>False</td>\n",
       "      <td>False</td>\n",
       "      <td>True</td>\n",
       "      <td>False</td>\n",
       "      <td>False</td>\n",
       "      <td>True</td>\n",
       "    </tr>\n",
       "    <tr>\n",
       "      <th>4</th>\n",
       "      <td>79.183.87.247</td>\n",
       "      <td>nFzwHGQB5cBXmMW1y_TD</td>\n",
       "      <td>True</td>\n",
       "      <td>False</td>\n",
       "      <td>False</td>\n",
       "      <td>False</td>\n",
       "      <td>False</td>\n",
       "      <td>True</td>\n",
       "      <td>False</td>\n",
       "      <td>True</td>\n",
       "      <td>...</td>\n",
       "      <td>False</td>\n",
       "      <td>False</td>\n",
       "      <td>False</td>\n",
       "      <td>False</td>\n",
       "      <td>False</td>\n",
       "      <td>False</td>\n",
       "      <td>True</td>\n",
       "      <td>False</td>\n",
       "      <td>False</td>\n",
       "      <td>True</td>\n",
       "    </tr>\n",
       "  </tbody>\n",
       "</table>\n",
       "<p>5 rows × 44 columns</p>\n",
       "</div>"
      ],
      "text/plain": [
       "        CLIENT_IP              EVENT_ID  HEADER_pattern  BOT_BOOL  \\\n",
       "0  93.158.215.131  AVdcJmIIq1Ppo9zF2YIp            True     False   \n",
       "1  176.123.240.64  iz7SN2YBrgKk_RFNZW_U            True     False   \n",
       "2     73.78.81.63  AVdjekw4q1Ppo9zF6QT2            True     False   \n",
       "3     66.102.9.44  SqQGI2QB5cBXmMW1CDbp            True     False   \n",
       "4   79.183.87.247  nFzwHGQB5cBXmMW1y_TD            True     False   \n",
       "\n",
       "   CURL_HEAD_BOOL  WGET_HEAD_BOOL  SYMBOL_@  LENGTH_OF_USER_AGENT_HEAD_likely  \\\n",
       "0           False           False     False                              True   \n",
       "1           False           False     False                              True   \n",
       "2           False           False     False                              True   \n",
       "3           False           False     False                              True   \n",
       "4           False           False     False                              True   \n",
       "\n",
       "   windows_bool  linux_bool  ...  REQUEST_URI\\';\\'REQUEST_ARGS  REQUEST_XML  \\\n",
       "0          True       False  ...                         False        False   \n",
       "1          True       False  ...                         False        False   \n",
       "2          True       False  ...                         False        False   \n",
       "3         False        True  ...                         False        False   \n",
       "4         False        True  ...                         False        False   \n",
       "\n",
       "   RESPONSE_BODY  RESPONSE_HEADERS      2      3      4      5  Anomaly TOP  \\\n",
       "0          False             False  False   True  False  False        False   \n",
       "1          False             False  False  False   True  False        False   \n",
       "2          False             False  False   True  False  False        False   \n",
       "3          False             False  False  False   True  False        False   \n",
       "4          False             False  False  False   True  False        False   \n",
       "\n",
       "   user_expected  \n",
       "0           True  \n",
       "1           True  \n",
       "2           True  \n",
       "3           True  \n",
       "4           True  \n",
       "\n",
       "[5 rows x 44 columns]"
      ]
     },
     "execution_count": 3,
     "metadata": {},
     "output_type": "execute_result"
    }
   ],
   "source": [
    "df.head()"
   ]
  },
  {
   "cell_type": "markdown",
   "id": "c32d5e3c-1d02-4b9d-beec-efdee2ee9060",
   "metadata": {},
   "source": [
    "# Import MLPAutoEncdoer"
   ]
  },
  {
   "cell_type": "code",
   "execution_count": 4,
   "id": "01839751-f77e-48a0-9c78-b66093ed6380",
   "metadata": {},
   "outputs": [],
   "source": [
    "model = torch.jit.load('../models/baseline_mlp_autoencdoer.pt')"
   ]
  },
  {
   "cell_type": "markdown",
   "id": "b8ba2462-e717-44ed-8b4f-10f85b669abe",
   "metadata": {},
   "source": [
    "## Define Encoder function"
   ]
  },
  {
   "cell_type": "code",
   "execution_count": 5,
   "id": "67e4d06b-17aa-4a29-bf3d-ecaeb89b1ef8",
   "metadata": {},
   "outputs": [],
   "source": [
    "@torch.inference_mode()\n",
    "def encode_data(model, data) -> np.array:\n",
    "    model.eval()\n",
    "    return model.encoder(torch.Tensor(data[2:].astype(float)).unsqueeze(0).view(1,1,42)).view(10).numpy()"
   ]
  },
  {
   "cell_type": "markdown",
   "id": "6ac02f22-87eb-4279-b4b7-6a6000d434bd",
   "metadata": {},
   "source": [
    "# Pipline to get encode list of features"
   ]
  },
  {
   "cell_type": "code",
   "execution_count": 7,
   "id": "be052116-bb45-43b4-b6a3-0c6f1ea704fe",
   "metadata": {},
   "outputs": [],
   "source": [
    "list_of_features = []\n",
    "for row in df.values:\n",
    "    list_of_features.append(encode_data(model, np.array(row)))\n",
    "list_of_features = np.array(list_of_features)"
   ]
  },
  {
   "cell_type": "code",
   "execution_count": 8,
   "id": "41e57b8d-c54d-4b02-b52e-fa0e41af7501",
   "metadata": {},
   "outputs": [],
   "source": [
    "df_zip = pd.DataFrame(data=list_of_features)"
   ]
  },
  {
   "cell_type": "markdown",
   "id": "83c206ec-7d8a-416e-874a-14b3fd091149",
   "metadata": {},
   "source": [
    "# Load OPTICS auto_classification"
   ]
  },
  {
   "cell_type": "code",
   "execution_count": 11,
   "id": "f76d32cc-e1e3-4cee-9020-b16db5462c96",
   "metadata": {},
   "outputs": [],
   "source": [
    "from sklearn.cluster import OPTICS"
   ]
  },
  {
   "cell_type": "code",
   "execution_count": 18,
   "id": "e833c6c0-f7bb-4763-a9e6-b77e00ec7df7",
   "metadata": {},
   "outputs": [
    {
     "name": "stderr",
     "output_type": "stream",
     "text": [
      "/home/gishb/.local/lib/python3.10/site-packages/sklearn/cluster/_optics.py:995: RuntimeWarning: divide by zero encountered in divide\n",
      "  ratio = reachability_plot[:-1] / reachability_plot[1:]\n"
     ]
    }
   ],
   "source": [
    "clustering = OPTICS(min_samples=500).fit(df_zip)"
   ]
  },
  {
   "cell_type": "code",
   "execution_count": 20,
   "id": "3c510f6d-cebd-41f4-b4ca-213e45d14739",
   "metadata": {},
   "outputs": [],
   "source": [
    "unique_classes = np.unique(clustering.labels_)"
   ]
  },
  {
   "cell_type": "code",
   "execution_count": 22,
   "id": "0ac9b8ec-c7d2-4536-b36f-b82b88396ccd",
   "metadata": {},
   "outputs": [],
   "source": [
    "df['class'] = clustering.labels_"
   ]
  },
  {
   "cell_type": "markdown",
   "id": "7e9dd2b1-1def-43e5-82b7-8f7eaf3014c8",
   "metadata": {},
   "source": [
    "# Save OPTICS classification"
   ]
  },
  {
   "cell_type": "code",
   "execution_count": 30,
   "id": "85c6e489-04c5-4cb3-b4dd-87d93d197192",
   "metadata": {},
   "outputs": [],
   "source": [
    "df[[\"EVENT_ID\",\"class\"]].to_parquet(\"../data/event_classes_by_optics_50\")"
   ]
  },
  {
   "cell_type": "code",
   "execution_count": 31,
   "id": "5181fdf8-a952-4b4b-9e83-d470c0b7dfd1",
   "metadata": {},
   "outputs": [
    {
     "data": {
      "text/html": [
       "<div>\n",
       "<style scoped>\n",
       "    .dataframe tbody tr th:only-of-type {\n",
       "        vertical-align: middle;\n",
       "    }\n",
       "\n",
       "    .dataframe tbody tr th {\n",
       "        vertical-align: top;\n",
       "    }\n",
       "\n",
       "    .dataframe thead th {\n",
       "        text-align: right;\n",
       "    }\n",
       "</style>\n",
       "<table border=\"1\" class=\"dataframe\">\n",
       "  <thead>\n",
       "    <tr style=\"text-align: right;\">\n",
       "      <th></th>\n",
       "      <th>EVENT_ID</th>\n",
       "      <th>class</th>\n",
       "    </tr>\n",
       "  </thead>\n",
       "  <tbody>\n",
       "    <tr>\n",
       "      <th>0</th>\n",
       "      <td>AVdcJmIIq1Ppo9zF2YIp</td>\n",
       "      <td>0</td>\n",
       "    </tr>\n",
       "    <tr>\n",
       "      <th>1</th>\n",
       "      <td>iz7SN2YBrgKk_RFNZW_U</td>\n",
       "      <td>-1</td>\n",
       "    </tr>\n",
       "    <tr>\n",
       "      <th>2</th>\n",
       "      <td>AVdjekw4q1Ppo9zF6QT2</td>\n",
       "      <td>0</td>\n",
       "    </tr>\n",
       "    <tr>\n",
       "      <th>3</th>\n",
       "      <td>SqQGI2QB5cBXmMW1CDbp</td>\n",
       "      <td>-1</td>\n",
       "    </tr>\n",
       "    <tr>\n",
       "      <th>4</th>\n",
       "      <td>nFzwHGQB5cBXmMW1y_TD</td>\n",
       "      <td>39</td>\n",
       "    </tr>\n",
       "  </tbody>\n",
       "</table>\n",
       "</div>"
      ],
      "text/plain": [
       "               EVENT_ID  class\n",
       "0  AVdcJmIIq1Ppo9zF2YIp      0\n",
       "1  iz7SN2YBrgKk_RFNZW_U     -1\n",
       "2  AVdjekw4q1Ppo9zF6QT2      0\n",
       "3  SqQGI2QB5cBXmMW1CDbp     -1\n",
       "4  nFzwHGQB5cBXmMW1y_TD     39"
      ]
     },
     "execution_count": 31,
     "metadata": {},
     "output_type": "execute_result"
    }
   ],
   "source": [
    "df[[\"EVENT_ID\",\"class\"]].head()"
   ]
  },
  {
   "cell_type": "code",
   "execution_count": null,
   "id": "edd4dda0-d229-49ac-92ea-6dbba9643cc4",
   "metadata": {},
   "outputs": [],
   "source": []
  }
 ],
 "metadata": {
  "kernelspec": {
   "display_name": "Python 3 (ipykernel)",
   "language": "python",
   "name": "python3"
  },
  "language_info": {
   "codemirror_mode": {
    "name": "ipython",
    "version": 3
   },
   "file_extension": ".py",
   "mimetype": "text/x-python",
   "name": "python",
   "nbconvert_exporter": "python",
   "pygments_lexer": "ipython3",
   "version": "3.10.12"
  }
 },
 "nbformat": 4,
 "nbformat_minor": 5
}
